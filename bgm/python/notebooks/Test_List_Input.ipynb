{
 "cells": [
  {
   "cell_type": "code",
   "execution_count": 1,
   "metadata": {},
   "outputs": [],
   "source": [
    "import sys\n",
    "sys.path.append('/Users/ch24434/Documents/bgm/python/')"
   ]
  },
  {
   "cell_type": "code",
   "execution_count": 2,
   "metadata": {},
   "outputs": [],
   "source": [
    "%load_ext autoreload\n",
    "%autoreload 2\n",
    "from bgm.graph import Graph"
   ]
  },
  {
   "cell_type": "code",
   "execution_count": null,
   "metadata": {},
   "outputs": [],
   "source": [
    "# Testing the List Representation of Graphs"
   ]
  },
  {
   "cell_type": "code",
   "execution_count": 49,
   "metadata": {},
   "outputs": [
    {
     "name": "stdout",
     "output_type": "stream",
     "text": [
      "{}\n",
      "{}\n",
      "\n"
     ]
    }
   ],
   "source": [
    "# Test Empty Graph\n",
    "graph_str = []\n",
    "g = Graph(graph_str)\n",
    "print(g.rep)\n",
    "print(g.name_to_node)\n",
    "print(g)"
   ]
  },
  {
   "cell_type": "code",
   "execution_count": 19,
   "metadata": {},
   "outputs": [
    {
     "name": "stdout",
     "output_type": "stream",
     "text": [
      "{'A': [], 'B': [], 'C': []}\n",
      "{'A': <bgm.graph.Node object at 0x109e91160>, 'B': <bgm.graph.Node object at 0x109e91908>, 'C': <bgm.graph.Node object at 0x109e91630>}\n"
     ]
    }
   ],
   "source": [
    "# Graph w/ Disconnected Components\n",
    "graph_str = ['A','B','C']\n",
    "g = Graph(graph_str)\n",
    "print(g.rep)\n",
    "print(g.name_to_node)\n",
    "print(g.get_neighborhood('A'))"
   ]
  },
  {
   "cell_type": "code",
   "execution_count": 29,
   "metadata": {},
   "outputs": [
    {
     "name": "stdout",
     "output_type": "stream",
     "text": [
      "{'A': [<bgm.graph.Edge object at 0x10a8f84a8>], 'C': []}\n",
      "{'A': <bgm.graph.Node object at 0x10a8f8518>, 'C': <bgm.graph.Node object at 0x10a8f8550>}\n",
      "['B']\n"
     ]
    }
   ],
   "source": [
    "# Graph w/ mix of Connected/Disconnected Components\n",
    "graph_str = [['A','B'],'C']\n",
    "g = Graph(graph_str)\n",
    "print(g.rep)\n",
    "print(g.name_to_node)\n",
    "print(g.get_neighborhood('A'))"
   ]
  },
  {
   "cell_type": "code",
   "execution_count": 37,
   "metadata": {},
   "outputs": [
    {
     "name": "stdout",
     "output_type": "stream",
     "text": [
      "{'A': [<bgm.graph.Edge object at 0x109e91ba8>], 'C': [], 'D': [<bgm.graph.Edge object at 0x109a18710>]}\n",
      "{'A': <bgm.graph.Node object at 0x109a187f0>, 'B': <bgm.graph.Node object at 0x109a18518>, 'C': <bgm.graph.Node object at 0x109a186a0>, 'D': <bgm.graph.Node object at 0x109a18a58>, 'E': <bgm.graph.Node object at 0x109a185f8>}\n",
      "[]\n"
     ]
    }
   ],
   "source": [
    "# Graph w/ mix of Connected/Disconnected Components, some lists and somes tuples\n",
    "graph_str = [['A','B'],'C',('D','E')]\n",
    "g = Graph(graph_str)\n",
    "print(g.rep)\n",
    "print(g.name_to_node)\n",
    "print(g.get_neighborhood('E'))"
   ]
  },
  {
   "cell_type": "code",
   "execution_count": 9,
   "metadata": {},
   "outputs": [
    {
     "name": "stdout",
     "output_type": "stream",
     "text": [
      "{'A': [<bgm.graph.Edge object at 0x116e9ce48>], 'C': [], 'D': [<bgm.graph.Edge object at 0x116e9cd30>, <bgm.graph.Edge object at 0x116e9cda0>], 'B': [<bgm.graph.Edge object at 0x116e9ceb8>]}\n",
      "{'A': <bgm.graph.Node object at 0x116e9ccc0>, 'B': <bgm.graph.Node object at 0x116e9ce80>, 'C': <bgm.graph.Node object at 0x116e9ce10>, 'D': <bgm.graph.Node object at 0x116e9cd68>, 'E': <bgm.graph.Node object at 0x116e9cdd8>, 'F': <bgm.graph.Node object at 0x116e9cc88>}\n",
      "[]\n",
      "A --> [B]\n",
      "C --> []\n",
      "D --> [E, F]\n",
      "B --> [F]\n"
     ]
    }
   ],
   "source": [
    "# Graph w/ mix of Connected/Disconnected Components, some lists and somes tuples\n",
    "graph_str = [['A','B'],'C',('D','E'),['D','F'],['B','F']]\n",
    "g = Graph(graph_str)\n",
    "print(g.rep)\n",
    "print(g.name_to_node)\n",
    "print(g.get_neighborhood('E'))\n",
    "print(g)"
   ]
  },
  {
   "cell_type": "code",
   "execution_count": 3,
   "metadata": {},
   "outputs": [
    {
     "name": "stdout",
     "output_type": "stream",
     "text": [
      "{'A': [<bgm.graph.Edge object at 0x116a412b0>], 'C': [], 'D': [<bgm.graph.Edge object at 0x116a41390>, <bgm.graph.Edge object at 0x116a41438>], 'B': [<bgm.graph.Edge object at 0x116a414a8>, <bgm.graph.Edge object at 0x116a41320>], 'E': [<bgm.graph.Edge object at 0x116a41518>], 'F': [<bgm.graph.Edge object at 0x116a41550>, <bgm.graph.Edge object at 0x116a41588>]}\n",
      "{'A': <bgm.graph.Node object at 0x116a412e8>, 'B': <bgm.graph.Node object at 0x116a414e0>, 'C': <bgm.graph.Node object at 0x116a41358>, 'D': <bgm.graph.Node object at 0x116a413c8>, 'E': <bgm.graph.Node object at 0x116a41400>, 'F': <bgm.graph.Node object at 0x116a41470>}\n",
      "['D']\n",
      "A --> [B]\n",
      "C --> []\n",
      "D --> [E, F]\n",
      "B --> [F, A]\n",
      "E --> [D]\n",
      "F --> [D, B]\n"
     ]
    }
   ],
   "source": [
    "# Graph w/ mix of Connected/Disconnected Components, some lists and somes tuples\n",
    "# Now forcing the graph to be undirected for ease of instantiation\n",
    "graph_str = [['A','B'],'C',('D','E'),['D','F'],['B','F'],'undirected']\n",
    "g = Graph(graph_str)\n",
    "print(g.rep)\n",
    "print(g.name_to_node)\n",
    "print(g.get_neighborhood('E'))\n",
    "print(g)"
   ]
  },
  {
   "cell_type": "code",
   "execution_count": 10,
   "metadata": {},
   "outputs": [
    {
     "data": {
      "text/plain": [
       "True"
      ]
     },
     "execution_count": 10,
     "metadata": {},
     "output_type": "execute_result"
    }
   ],
   "source": [
    "g.rep['D'][1].directed"
   ]
  }
 ],
 "metadata": {
  "kernelspec": {
   "display_name": "Python 3",
   "language": "python",
   "name": "python3"
  },
  "language_info": {
   "codemirror_mode": {
    "name": "ipython",
    "version": 3
   },
   "file_extension": ".py",
   "mimetype": "text/x-python",
   "name": "python",
   "nbconvert_exporter": "python",
   "pygments_lexer": "ipython3",
   "version": "3.7.1"
  }
 },
 "nbformat": 4,
 "nbformat_minor": 2
}
