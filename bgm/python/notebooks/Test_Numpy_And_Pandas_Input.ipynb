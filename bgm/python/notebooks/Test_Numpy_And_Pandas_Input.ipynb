{
 "cells": [
  {
   "cell_type": "code",
   "execution_count": 1,
   "metadata": {},
   "outputs": [],
   "source": [
    "import sys\n",
    "sys.path.append('/Users/ch24434/Documents/bgm/python/')"
   ]
  },
  {
   "cell_type": "code",
   "execution_count": 2,
   "metadata": {},
   "outputs": [],
   "source": [
    "%load_ext autoreload\n",
    "%autoreload 2\n",
    "from bgm.graph import Graph"
   ]
  },
  {
   "cell_type": "code",
   "execution_count": 4,
   "metadata": {},
   "outputs": [],
   "source": [
    "import pandas as pd\n",
    "import numpy as np"
   ]
  },
  {
   "cell_type": "code",
   "execution_count": 32,
   "metadata": {},
   "outputs": [
    {
     "name": "stdout",
     "output_type": "stream",
     "text": [
      "{'0': [<bgm.graph.Edge object at 0x119318c18>, <bgm.graph.Edge object at 0x119318c88>], '1': [<bgm.graph.Edge object at 0x119318d68>], '2': [<bgm.graph.Edge object at 0x1190e7080>, <bgm.graph.Edge object at 0x1190e70f0>]}\n",
      "{'0': <bgm.graph.Node object at 0x119318b70>, '1': <bgm.graph.Node object at 0x119318cc0>, '2': <bgm.graph.Node object at 0x119111f98>}\n",
      "['1', '2']\n",
      "0 --> [1, 2]\n",
      "1 --> [2]\n",
      "2 --> [0, 2]\n"
     ]
    }
   ],
   "source": [
    "graph_rep = np.array([[0, 1, 1], [0, 0, 1], [1, 0, 1]])\n",
    "g = Graph(graph_rep)\n",
    "print(g.rep)\n",
    "print(g.name_to_node)\n",
    "print(g.get_neighborhood('0'))\n",
    "print(g)"
   ]
  },
  {
   "cell_type": "code",
   "execution_count": 38,
   "metadata": {},
   "outputs": [
    {
     "name": "stdout",
     "output_type": "stream",
     "text": [
      "{'A': [<bgm.graph.Edge object at 0x11910e898>, <bgm.graph.Edge object at 0x11910e7b8>], 'B': [<bgm.graph.Edge object at 0x11910e8d0>], 'C': [<bgm.graph.Edge object at 0x11910e940>, <bgm.graph.Edge object at 0x11910e908>]}\n",
      "{'A': <bgm.graph.Node object at 0x1190e7ba8>, 'B': <bgm.graph.Node object at 0x11910e978>, 'C': <bgm.graph.Node object at 0x11910ed68>}\n",
      "['B', 'C']\n",
      "A --> [B, C]\n",
      "B --> [C]\n",
      "C --> [A, C]\n"
     ]
    }
   ],
   "source": [
    "graph_rep = pd.DataFrame(np.array([[0, 1, 1], [0, 0, 1], [1, 0, 1]]),\n",
    "                         columns=['A','B','C'])\n",
    "g = Graph(graph_rep)\n",
    "print(g.rep)\n",
    "print(g.name_to_node)\n",
    "print(g.get_neighborhood('A'))\n",
    "print(g)"
   ]
  }
 ],
 "metadata": {
  "kernelspec": {
   "display_name": "Python 3",
   "language": "python",
   "name": "python3"
  },
  "language_info": {
   "codemirror_mode": {
    "name": "ipython",
    "version": 3
   },
   "file_extension": ".py",
   "mimetype": "text/x-python",
   "name": "python",
   "nbconvert_exporter": "python",
   "pygments_lexer": "ipython3",
   "version": "3.7.1"
  }
 },
 "nbformat": 4,
 "nbformat_minor": 2
}
